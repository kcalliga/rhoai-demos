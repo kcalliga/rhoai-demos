{
 "cells": [
  {
   "cell_type": "code",
   "execution_count": null,
   "id": "0594e245-bf90-4db8-949c-8445b044ee5b",
   "metadata": {},
   "outputs": [],
   "source": [
    "# Step 4: Aggregate TF-IDF Features Per Hour\n",
    "# Combine with hour column\n",
    "tfidf_df = pd.DataFrame(X_tfidf.toarray(), columns=vectorizer.get_feature_names_out())\n",
    "tfidf_df['hour'] = df['hour'].values\n",
    "\n",
    "# Aggregate (sum) per hour\n",
    "tfidf_agg = tfidf_df.groupby('hour').sum()"
   ]
  }
 ],
 "metadata": {
  "kernelspec": {
   "display_name": "Python 3.11",
   "language": "python",
   "name": "python3"
  },
  "language_info": {
   "codemirror_mode": {
    "name": "ipython",
    "version": 3
   },
   "file_extension": ".py",
   "mimetype": "text/x-python",
   "name": "python",
   "nbconvert_exporter": "python",
   "pygments_lexer": "ipython3",
   "version": "3.11.9"
  }
 },
 "nbformat": 4,
 "nbformat_minor": 5
}
