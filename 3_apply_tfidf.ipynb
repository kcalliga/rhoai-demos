{
 "cells": [
  {
   "cell_type": "code",
   "execution_count": null,
   "id": "4799ecf5-1032-4400-815e-bcab3c953f81",
   "metadata": {},
   "outputs": [],
   "source": [
    "# Step 3: Apply TF-IDF Vectorization\n",
    "from sklearn.feature_extraction.text import TfidfVectorizer\n",
    "\n",
    "# TF-IDF on cleaned text with expanded features and bigrams\n",
    "vectorizer = TfidfVectorizer(stop_words='english', max_features=300, ngram_range=(1, 2))\n",
    "X_tfidf = vectorizer.fit_transform(df['clean_text'])"
   ]
  }
 ],
 "metadata": {
  "kernelspec": {
   "display_name": "Python 3.11",
   "language": "python",
   "name": "python3"
  },
  "language_info": {
   "codemirror_mode": {
    "name": "ipython",
    "version": 3
   },
   "file_extension": ".py",
   "mimetype": "text/x-python",
   "name": "python",
   "nbconvert_exporter": "python",
   "pygments_lexer": "ipython3",
   "version": "3.11.9"
  }
 },
 "nbformat": 4,
 "nbformat_minor": 5
}
