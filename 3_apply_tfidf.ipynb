{
 "cells": [
  {
   "cell_type": "code",
   "execution_count": 5,
   "id": "4799ecf5-1032-4400-815e-bcab3c953f81",
   "metadata": {},
   "outputs": [],
   "source": [
    "import pandas as pd\n",
    "import json\n",
    "from datetime import datetime\n",
    "import re\n",
    "#read from input 2\n",
    "df=pd.read_csv(\"2_preprocess_clean_output.csv\")\n",
    "# Step 3: Apply TF-IDF Vectorization\n",
    "from sklearn.feature_extraction.text import TfidfVectorizer\n",
    "\n",
    "# TF-IDF on cleaned text with expanded features and bigrams\n",
    "vectorizer = TfidfVectorizer(stop_words='english', max_features=300, ngram_range=(1, 2))\n",
    "X_tfidf = vectorizer.fit_transform(df['clean_text'])\n",
    "\n",
    "## Export for Pipeline Step 4\n",
    "df.to_csv(\"3_apply_tfidf_output.csv\", index=False)"
   ]
  },
  {
   "cell_type": "code",
   "execution_count": 6,
   "id": "1bc42d00-10c4-400a-998f-7ab01fca975f",
   "metadata": {},
   "outputs": [
    {
     "data": {
      "text/plain": [
       "<Compressed Sparse Row sparse matrix of dtype 'float64'\n",
       "\twith 43887 stored elements and shape (2656, 300)>"
      ]
     },
     "execution_count": 6,
     "metadata": {},
     "output_type": "execute_result"
    }
   ],
   "source": [
    "X_tfidf"
   ]
  },
  {
   "cell_type": "code",
   "execution_count": null,
   "id": "b268a340-8513-45d2-8d0a-025ce02be28b",
   "metadata": {},
   "outputs": [],
   "source": []
  }
 ],
 "metadata": {
  "kernelspec": {
   "display_name": "Python 3.11",
   "language": "python",
   "name": "python3"
  },
  "language_info": {
   "codemirror_mode": {
    "name": "ipython",
    "version": 3
   },
   "file_extension": ".py",
   "mimetype": "text/x-python",
   "name": "python",
   "nbconvert_exporter": "python",
   "pygments_lexer": "ipython3",
   "version": "3.11.9"
  }
 },
 "nbformat": 4,
 "nbformat_minor": 5
}
