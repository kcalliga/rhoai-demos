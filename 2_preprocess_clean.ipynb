{
 "cells": [
  {
   "cell_type": "code",
   "execution_count": 1,
   "id": "52e84a00-2ce4-4077-a264-cd56ac164eb1",
   "metadata": {},
   "outputs": [
    {
     "ename": "NameError",
     "evalue": "name 'df' is not defined",
     "output_type": "error",
     "traceback": [
      "\u001b[31m---------------------------------------------------------------------------\u001b[39m",
      "\u001b[31mNameError\u001b[39m                                 Traceback (most recent call last)",
      "\u001b[36mCell\u001b[39m\u001b[36m \u001b[39m\u001b[32mIn[1]\u001b[39m\u001b[32m, line 3\u001b[39m\n\u001b[32m      1\u001b[39m \u001b[38;5;66;03m# Step 2: Preprocess and Clean Text Fields\u001b[39;00m\n\u001b[32m      2\u001b[39m \u001b[38;5;66;03m# Combine 'reason' and 'message' into one text field\u001b[39;00m\n\u001b[32m----> \u001b[39m\u001b[32m3\u001b[39m df[\u001b[33m'\u001b[39m\u001b[33mtext\u001b[39m\u001b[33m'\u001b[39m] = \u001b[43mdf\u001b[49m[\u001b[33m'\u001b[39m\u001b[33mreason\u001b[39m\u001b[33m'\u001b[39m] + \u001b[33m'\u001b[39m\u001b[33m \u001b[39m\u001b[33m'\u001b[39m + df[\u001b[33m'\u001b[39m\u001b[33mmessage\u001b[39m\u001b[33m'\u001b[39m]\n\u001b[32m      5\u001b[39m \u001b[38;5;66;03m# Remove hash-like words (hexadecimal strings) from logs\u001b[39;00m\n\u001b[32m      6\u001b[39m \u001b[38;5;28;01mdef\u001b[39;00m\u001b[38;5;250m \u001b[39m\u001b[34mclean_log_message\u001b[39m(text):\n",
      "\u001b[31mNameError\u001b[39m: name 'df' is not defined"
     ]
    }
   ],
   "source": [
    "# Step 2: Preprocess and Clean Text Fields\n",
    "# Combine 'reason' and 'message' into one text field\n",
    "df['text'] = df['reason'] + ' ' + df['message']\n",
    "\n",
    "# Remove hash-like words (hexadecimal strings) from logs\n",
    "def clean_log_message(text):\n",
    "    return ' '.join([\n",
    "        word for word in text.split()\n",
    "        if not (re.fullmatch(r'[a-f0-9]{16,}', word.lower()) or re.fullmatch(r'[a-f0-9]{32,}', word.lower()))\n",
    "    ])\n",
    "\n",
    "df['clean_text'] = df['text'].apply(clean_log_message)\n",
    "\n",
    "# Convert timestamps to datetime\n",
    "df['timestamp'] = pd.to_datetime(df['timestamp'])\n",
    "\n",
    "# Group events into hourly buckets\n",
    "df['hour'] = df['timestamp'].dt.floor('H')\n"
   ]
  },
  {
   "cell_type": "code",
   "execution_count": null,
   "id": "99b9d7e1-95de-4bba-9893-972e58db00a9",
   "metadata": {},
   "outputs": [],
   "source": []
  }
 ],
 "metadata": {
  "kernelspec": {
   "display_name": "Python 3.11",
   "language": "python",
   "name": "python3"
  },
  "language_info": {
   "codemirror_mode": {
    "name": "ipython",
    "version": 3
   },
   "file_extension": ".py",
   "mimetype": "text/x-python",
   "name": "python",
   "nbconvert_exporter": "python",
   "pygments_lexer": "ipython3",
   "version": "3.11.9"
  }
 },
 "nbformat": 4,
 "nbformat_minor": 5
}
