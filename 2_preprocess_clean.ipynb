{
 "cells": [
  {
   "cell_type": "code",
   "execution_count": 4,
   "id": "52e84a00-2ce4-4077-a264-cd56ac164eb1",
   "metadata": {},
   "outputs": [
    {
     "name": "stderr",
     "output_type": "stream",
     "text": [
      "/tmp/ipykernel_615/2837913129.py:24: FutureWarning: 'H' is deprecated and will be removed in a future version, please use 'h' instead.\n",
      "  df['hour'] = df['timestamp'].dt.floor('H')\n"
     ]
    }
   ],
   "source": [
    "import pandas as pd\n",
    "import json\n",
    "from datetime import datetime\n",
    "import re\n",
    "# Step 2: Preprocess and Clean Text Fields\n",
    "# Combine 'reason' and 'message' into one text field\n",
    "#read from input 1\n",
    "df=pd.read_csv(\"1_load_event_data_output.csv\")\n",
    "df['text'] = df['reason'] + ' ' + df['message']\n",
    "\n",
    "# Remove hash-like words (hexadecimal strings) from logs\n",
    "def clean_log_message(text):\n",
    "    return ' '.join([\n",
    "        word for word in text.split()\n",
    "        if not (re.fullmatch(r'[a-f0-9]{16,}', word.lower()) or re.fullmatch(r'[a-f0-9]{32,}', word.lower()))\n",
    "    ])\n",
    "\n",
    "df['clean_text'] = df['text'].apply(clean_log_message)\n",
    "\n",
    "# Convert timestamps to datetime\n",
    "df['timestamp'] = pd.to_datetime(df['timestamp'])\n",
    "\n",
    "# Group events into hourly buckets\n",
    "df['hour'] = df['timestamp'].dt.floor('H')\n",
    "\n",
    "## Export for Pipeline Step 2\n"
   ]
  },
  {
   "cell_type": "code",
   "execution_count": null,
   "id": "99b9d7e1-95de-4bba-9893-972e58db00a9",
   "metadata": {},
   "outputs": [],
   "source": []
  }
 ],
 "metadata": {
  "kernelspec": {
   "display_name": "Python 3.11",
   "language": "python",
   "name": "python3"
  },
  "language_info": {
   "codemirror_mode": {
    "name": "ipython",
    "version": 3
   },
   "file_extension": ".py",
   "mimetype": "text/x-python",
   "name": "python",
   "nbconvert_exporter": "python",
   "pygments_lexer": "ipython3",
   "version": "3.11.9"
  }
 },
 "nbformat": 4,
 "nbformat_minor": 5
}
