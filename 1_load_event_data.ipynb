{
 "cells": [
  {
   "cell_type": "code",
   "execution_count": 5,
   "id": "6bdd1d43-40bb-42f6-81a7-f37bb53d1521",
   "metadata": {},
   "outputs": [],
   "source": [
    "### Jupyter Notebook: Anomaly Detection on OpenShift Events Using TF-IDF + Isolation Forest\n",
    "\n",
    "# Step 1: Load Event Data\n",
    "import pandas as pd\n",
    "import json\n",
    "from datetime import datetime\n",
    "import re\n",
    "\n",
    "# Load from events.json (already uploaded in RHODS environment)\n",
    "with open('events.json') as f:\n",
    "    data = json.load(f)\n",
    "\n",
    "# Extract relevant fields\n",
    "events = []\n",
    "for item in data['items']:\n",
    "    timestamp = item.get('firstTimestamp') or item['metadata']['creationTimestamp']\n",
    "    reason = item.get('reason', '')\n",
    "    message = item.get('message', '')\n",
    "    event_type = item.get('type', '')\n",
    "    events.append({\n",
    "        'timestamp': timestamp,\n",
    "        'reason': reason,\n",
    "        'message': message,\n",
    "        'type': event_type\n",
    "    })\n",
    "\n",
    "# Create DataFrame\n",
    "df = pd.DataFrame(events)\n",
    "# Export for Pipeline Step 2\n",
    "df.to_csv(\"1_load_event_data_output.csv\", index=False)"
   ]
  }
 ],
 "metadata": {
  "kernelspec": {
   "display_name": "Python 3.11",
   "language": "python",
   "name": "python3"
  },
  "language_info": {
   "codemirror_mode": {
    "name": "ipython",
    "version": 3
   },
   "file_extension": ".py",
   "mimetype": "text/x-python",
   "name": "python",
   "nbconvert_exporter": "python",
   "pygments_lexer": "ipython3",
   "version": "3.11.9"
  }
 },
 "nbformat": 4,
 "nbformat_minor": 5
}
